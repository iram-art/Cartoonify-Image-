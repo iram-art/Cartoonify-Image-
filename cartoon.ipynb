{
 "cells": [
  {
   "cell_type": "markdown",
   "id": "72427a43",
   "metadata": {},
   "source": [
    "# **CARTOONIFY IMAGE USING MACHINE LEARNING**\n"
   ]
  },
  {
   "cell_type": "code",
   "execution_count": 2,
   "id": "68397da1",
   "metadata": {},
   "outputs": [],
   "source": [
    "#import libraries\n",
    "import cv2\n",
    "import numpy as np\n",
    "from tkinter.filedialog import *"
   ]
  },
  {
   "cell_type": "code",
   "execution_count": 3,
   "id": "148c48f5",
   "metadata": {},
   "outputs": [],
   "source": [
    "#TO OPEN LOCAL FILE BROWSER\n",
    "photo = askopenfilename()\n",
    "image = cv2.imread(photo)\n"
   ]
  },
  {
   "cell_type": "code",
   "execution_count": 4,
   "id": "5b973f04",
   "metadata": {},
   "outputs": [],
   "source": [
    "#USE MEDIANBLUR TO BLUR AN IMAGE\n",
    "grey_image=cv2.cvtColor(image, cv2.COLOR_BGR2GRAY)#CONVERTS BGR IMAGE TO GRAY\n",
    "grey_image=cv2.medianBlur(grey_image, 5)\n",
    "edges = cv2.adaptiveThreshold(grey_image, 255, cv2.ADAPTIVE_THRESH_MEAN_C, cv2.THRESH_BINARY, 9,9)\n"
   ]
  },
  {
   "cell_type": "code",
   "execution_count": 5,
   "id": "047113c8",
   "metadata": {},
   "outputs": [],
   "source": [
    "#TO REMOVE NOISE FROM IMAGE\n",
    "color = cv2.bilateralFilter(image, 9, 250, 250)\n",
    "cartoon = cv2.bitwise_and(color, color,mask =edges)#COMBINING ARRAYS OF IMAGES\n",
    "\n"
   ]
  },
  {
   "cell_type": "code",
   "execution_count": 6,
   "id": "e5253f88",
   "metadata": {},
   "outputs": [],
   "source": [
    "#DISPLAY IMAGE\n",
    "cv2.imshow('Image', image)\n",
    "cv2.imshow('Cartoon', cartoon)\n"
   ]
  },
  {
   "cell_type": "code",
   "execution_count": 7,
   "id": "e2837c1b",
   "metadata": {},
   "outputs": [],
   "source": [
    "#TO SAVE IMAGE\n",
    "cv2.imwrite(\"cartoon.jpg\", cartoon)\n",
    "cv2.waitKey(0)\n",
    "cv2.destroyAllWindows()\n"
   ]
  },
  {
   "cell_type": "code",
   "execution_count": null,
   "id": "84db0bbb",
   "metadata": {},
   "outputs": [],
   "source": []
  },
  {
   "cell_type": "code",
   "execution_count": null,
   "id": "c8346106",
   "metadata": {},
   "outputs": [],
   "source": []
  }
 ],
 "metadata": {
  "kernelspec": {
   "display_name": "Python 3 (ipykernel)",
   "language": "python",
   "name": "python3"
  },
  "language_info": {
   "codemirror_mode": {
    "name": "ipython",
    "version": 3
   },
   "file_extension": ".py",
   "mimetype": "text/x-python",
   "name": "python",
   "nbconvert_exporter": "python",
   "pygments_lexer": "ipython3",
   "version": "3.9.13"
  }
 },
 "nbformat": 4,
 "nbformat_minor": 5
}
